{
 "cells": [
  {
   "cell_type": "code",
   "execution_count": 5,
   "metadata": {},
   "outputs": [],
   "source": [
    "from dataclasses import dataclass\n",
    "\n",
    "\n",
    "# @dataclass\n",
    "# class DicData:\n",
    "#     id: int\n",
    "#     unicode: str\n",
    "#     freq: int\n",
    "#     han: str\n",
    "#     quoc_ngu: str\n",
    "#     english: str\n",
    "\n",
    "\n",
    "DATA = \"standard-list.txt.tsv\"\n",
    "\n",
    "def mkDicData(id, unicode, freq, han, quoc_ngu, english):\n",
    "    d = {}\n",
    "    id = int(id.strip(\".\"))\n",
    "    freq = int(freq)\n",
    "    d[\"id\"] = id - 1\n",
    "    d[\"unicode\"] = unicode\n",
    "    d[\"freq\"] = freq\n",
    "    d[\"han\"] = han\n",
    "    d[\"quoc_ngu\"] = quoc_ngu\n",
    "    d[\"english\"] = english\n",
    "    return d\n",
    "\n",
    "data = open(DATA).readlines()\n",
    "data = [line.strip(\"\\n\").split(\"\\t\") for line in data]\n",
    "col_names = data[0]\n",
    "data = data[1:]\n",
    "col_names\n",
    "data = [mkDicData(*line) for line in data]\n",
    "\n",
    "\n"
   ]
  },
  {
   "cell_type": "code",
   "execution_count": 6,
   "metadata": {},
   "outputs": [
    {
     "data": {
      "text/plain": [
       "{'id': 0,\n",
       " 'unicode': 'U+27D51',\n",
       " 'freq': 1,\n",
       " 'han': '𧵑',\n",
       " 'quoc_ngu': 'của',\n",
       " 'english': 'of; to belong to; properties, belongings'}"
      ]
     },
     "execution_count": 6,
     "metadata": {},
     "output_type": "execute_result"
    }
   ],
   "source": [
    "data[0]"
   ]
  },
  {
   "cell_type": "code",
   "execution_count": 7,
   "metadata": {},
   "outputs": [],
   "source": [
    "def dump_dict_as_json(dic, file):\n",
    "    import json\n",
    "    with open(file, 'w') as f:\n",
    "        json.dump({\"words\" : dic}, f, ensure_ascii=False, indent=4)"
   ]
  },
  {
   "cell_type": "code",
   "execution_count": 8,
   "metadata": {},
   "outputs": [],
   "source": [
    "dump_dict_as_json(data, \"data.json\")"
   ]
  },
  {
   "cell_type": "code",
   "execution_count": null,
   "metadata": {},
   "outputs": [],
   "source": []
  }
 ],
 "metadata": {
  "kernelspec": {
   "display_name": "Python 3",
   "language": "python",
   "name": "python3"
  },
  "language_info": {
   "codemirror_mode": {
    "name": "ipython",
    "version": 3
   },
   "file_extension": ".py",
   "mimetype": "text/x-python",
   "name": "python",
   "nbconvert_exporter": "python",
   "pygments_lexer": "ipython3",
   "version": "3.11.6"
  }
 },
 "nbformat": 4,
 "nbformat_minor": 2
}
